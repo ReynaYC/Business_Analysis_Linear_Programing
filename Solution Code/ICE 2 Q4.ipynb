{
 "metadata": {
  "language_info": {
   "codemirror_mode": {
    "name": "ipython",
    "version": 3
   },
   "file_extension": ".py",
   "mimetype": "text/x-python",
   "name": "python",
   "nbconvert_exporter": "python",
   "pygments_lexer": "ipython3",
   "version": "3.8.5-final"
  },
  "orig_nbformat": 2,
  "kernelspec": {
   "name": "python38564bitbcc4d76a06654eb692dff75496a67b7b",
   "display_name": "Python 3.8.5 64-bit",
   "language": "python"
  }
 },
 "nbformat": 4,
 "nbformat_minor": 2,
 "cells": [
  {
   "cell_type": "code",
   "execution_count": 1,
   "metadata": {},
   "outputs": [],
   "source": [
    "from scipy.optimize import linprog"
   ]
  },
  {
   "source": [
    "## Q4\n",
    "A paint manufacturer, PCBCo, must determine how much paint should be produced in the next four quarters. The firm estimates the demand for the next four months to be 40, 60, 75, and 25 in thousands of lbs. The firm must fully satisfy the demand in each month, i.e., no backlogging, In the beginning of period 1, PCBCo has an inventory of 10,000 lbs. The firm \n",
    "\n",
    "1.\thas a production capacity of 40,000 lbs. each quarter with a per unit cost of $400 per thousand lbs using regular labor, \n",
    "2.\tmay have workers work overtime where the per unit cost increases to $450 per thousand lbs.,\n",
    "3.\tincurs a holding cost of $20 per thousand lbs. at the end of a period. \n",
    "\n",
    "How many lbs. of paint should PCBCo produce to satisfy demand while minimizing total production and inventory costs? (Hint: The inventory cost is based on the amount stored at the end of the period!)\n"
   ],
   "cell_type": "markdown",
   "metadata": {}
  },
  {
   "cell_type": "code",
   "execution_count": 2,
   "metadata": {},
   "outputs": [
    {
     "output_type": "execute_result",
     "data": {
      "text/plain": [
       "     con: array([0.])\n",
       "     fun: 78450.0\n",
       " message: 'Optimization terminated successfully.'\n",
       "     nit: 7\n",
       "   slack: array([ 0.,  0.,  0., 15., 10.,  0.,  0.,  0.])\n",
       "  status: 0\n",
       " success: True\n",
       "       x: array([40., 40., 40., 25.,  0., 10., 35.,  0.,  1.])"
      ]
     },
     "metadata": {},
     "execution_count": 2
    }
   ],
   "source": [
    "# preprocessing data\n",
    "'''\n",
    " x1 = q1 regular time production\n",
    " x2 = q2 regular time production\n",
    " x3 = q3 regular time production\n",
    " x4 = q4 regular time production\n",
    " x5 = q1 overtime production\n",
    " x6 = q2 overtime production\n",
    " x7 = q3 overtime production\n",
    " x8 = q4 overtime production \n",
    " x9 = 1 (dummy)\n",
    "\n",
    " reg prod cost = 400\n",
    " overtime cost = 450\n",
    " carrying cost = 20\n",
    "\n",
    " q1Cost = x1*400+x5*450+20*(10+x1+x5-40) = 420*x1+470*x5-600 \n",
    " q2Cost = x2*400+x6*450+20*((x1+x5+10-40)+x2+x6-60) = 420*x2+470*x6+20*x1+20*x5-1800 \n",
    " q3Cost = x3*400+x7*450+20*(((x1+x5-30)+x2+x6-60)+x3+x7-75) = 420*x3+470*x7+20*x1+20*x5+20*x2+20*x6-3300 \n",
    " q4Cost = x4*400+x8*450+20*((((x1+x5-30)+x2+x6-60)+x3+x7-75)+x4+x8-25) = 420*x4+470*x8+20*x1+20*x5+20*x2+20*x6+20*x3+20*x7-3800 \n",
    " objective = q1Cost+q2Cost+q3Cost+q4Cost = 480*x1+460*x2+440*x3+420*x4+530*x5+510*x6+490*x7+470*x8-9500*x9\n",
    " \n",
    " Constrains \n",
    " Q1 demand -> 10+x1+x5 >= 40 -> -x1-x5 <= -30\n",
    " Q2 demand -> 10+x1+x5-40+x2+x6 >= 60 -> -x1-x5-x2-x6 <= -90\n",
    " Q3 demand -> x1+x2+x5+x6-90+x3+x7 >= 75 -> -x1-x2-x3-x5-x6-x7 <= -165\n",
    " Q4 demand -> x1+x2+x3+x5+x6+x7-165+x4+x8 >= 25 -> -x1-x2-x3-x4-x5-x6-x7-x8 <= -190\n",
    "'''\n",
    "\n",
    "# objective function coefficients\n",
    "# 480*x1+460*x2+440*x3+420*x4+530*x5+510*x6+490*x7+470*x8-9500*x9\n",
    "obj = [480,460,440,420,530,510,490,470,-9500] \n",
    "\n",
    "# left hand side coefficients\n",
    "lhs_ineq = [[1,0,0,0,0,0,0,0,0], \n",
    "            [0,1,0,0,0,0,0,0,0],\n",
    "            [0,0,1,0,0,0,0,0,0],\n",
    "            [0,0,0,1,0,0,0,0,0],\n",
    "            [-1,0,0,0,-1,0,0,0,0],\n",
    "            [-1,-1,0,0,-1,-1,0,0,0],\n",
    "            [-1,-1,-1,0,-1,-1,-1,0,0],\n",
    "            [-1,-1,-1,-1,-1,-1,-1,-1,0]\n",
    "            ]  \n",
    "\n",
    "# right hand side values\n",
    "rhs_ineq = [40,     # q1 max reg hour production \n",
    "            40,     # q2 max reg hour production \n",
    "            40,     # q3 max reg hour production \n",
    "            40,     # q4 max reg hour production \n",
    "            -30,    # q1 adjusted demand \n",
    "            -90,    # q2 adjusted demand \n",
    "            -165,   # q3 adjusted demand \n",
    "            -190    # q4 adjusted demand \n",
    "            ]  \n",
    "# lhs_ineq <= rhs_ineq \n",
    "\n",
    "# equal constrains\n",
    "lhs_eq = [[0,0,0,0,0,0,0,0,1]] \n",
    "rhs_eq = [1] # x9 = 1\n",
    "\n",
    "bnd = [(0, float(\"inf\")),  \n",
    "       (0, float(\"inf\")), \n",
    "       (0, float(\"inf\")), \n",
    "       (0, float(\"inf\")), \n",
    "       (0, float(\"inf\")), \n",
    "       (0, float(\"inf\")), \n",
    "       (0, float(\"inf\")), \n",
    "       (0, float(\"inf\")), \n",
    "       (0, float(\"inf\"))\n",
    "       ]  \n",
    "\n",
    "opt = linprog(c=obj, A_ub=lhs_ineq, b_ub=rhs_ineq,\n",
    "                A_eq=lhs_eq, b_eq=rhs_eq,\n",
    "                bounds=bnd,\n",
    "                method=\"revised simplex\")\n",
    "opt"
   ]
  }
 ]
}