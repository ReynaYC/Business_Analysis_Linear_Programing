{
 "metadata": {
  "language_info": {
   "codemirror_mode": {
    "name": "ipython",
    "version": 3
   },
   "file_extension": ".py",
   "mimetype": "text/x-python",
   "name": "python",
   "nbconvert_exporter": "python",
   "pygments_lexer": "ipython3",
   "version": "3.8.5-final"
  },
  "orig_nbformat": 2,
  "kernelspec": {
   "name": "python38564bitbcc4d76a06654eb692dff75496a67b7b",
   "display_name": "Python 3.8.5 64-bit",
   "language": "python"
  }
 },
 "nbformat": 4,
 "nbformat_minor": 2,
 "cells": [
  {
   "cell_type": "code",
   "execution_count": 1,
   "metadata": {},
   "outputs": [],
   "source": [
    "from scipy.optimize import linprog"
   ]
  },
  {
   "source": [
    "## Q9\n",
    "Cleveland Bank has 30 bankers who work 5 days a week. The number of bankers needed each day depends on the day and is as follows: Monday, 18; Tuesday, 24; Wednesday, 25; Thursday, 16; Friday, 21; Saturday, 28; and Sunday, 18. \n"
   ],
   "cell_type": "markdown",
   "metadata": {}
  },
  {
   "source": [
    "## Q9\n",
    "a.\tSolve the model that minimizes the numbers of bankers whose days off are not consecutive"
   ],
   "cell_type": "markdown",
   "metadata": {}
  },
  {
   "cell_type": "code",
   "execution_count": 2,
   "metadata": {},
   "outputs": [
    {
     "output_type": "execute_result",
     "data": {
      "text/plain": [
       "     con: array([0.])\n",
       "     fun: 2.0\n",
       " message: 'Optimization terminated successfully.'\n",
       "     nit: 14\n",
       "   slack: array([0., 0., 0., 0., 0., 0., 0.])\n",
       "  status: 0\n",
       " success: True\n",
       "       x: array([ 2.,  0.,  0.,  0.,  0., 10.,  2.,  2.,  0.,  0.,  0.,  3.,  0.,\n",
       "        0.,  0.,  9.,  0.,  0.,  0.,  0.,  2.])"
      ]
     },
     "metadata": {},
     "execution_count": 2
    }
   ],
   "source": [
    "# For i < j let xij be the number of workers who get day i and j off each week.  Here i= 1 is Monday, and i= 7 is Sunday.  Thus x12 is the number of workers getting Monday and Tuesday off, and x17 are the number of workers who get Monday and Sunday off.\n",
    "# obj=x12+x13+x14+x15+x16+x17+x23+x24+x25+x26+x27+x34+x35+x36+x37+x45+x46+x47+x56+x57+x67 \n",
    "# sense= minimization\n",
    "obj=[0,1,1,1,1,0,0,1,1,1,1,0,1,1,1,0,1,1,0,1,0]\n",
    "# set the constraints:\n",
    "# x12+x13+x14+x15+x16+x17 <= 12\n",
    "# x12+x23+x24+x25+x26+x27 <= 6\n",
    "# x13+x23+x34+x35+x36+x37 <= 5\n",
    "# x14+x24+x34+x45+x46+x47 <= 14\n",
    "# x15+x25+x35+x45+x56+x57 <= 9\n",
    "# x16+x26+x36+x46+x56+x67 <= 2\n",
    "# x17+x27+x37+x47+x57+x67 <=12\n",
    "# x12+x13+x14+x15+x16+x17+x23+x24+x25+x26+x27+x34+x35+x36+x37+x45+x46+x47+x56+x57+x67 = 30\n",
    "lhs_ineq=[[1,1,1,1,1,1,0,0,0,0,0,0,0,0,0,0,0,0,0,0,0],\n",
    "          [1,0,0,0,0,0,1,1,1,1,1,0,0,0,0,0,0,0,0,0,0],\n",
    "          [0,1,0,0,0,0,1,0,0,0,0,1,1,1,1,0,0,0,0,0,0],\n",
    "          [0,0,1,0,0,0,0,1,0,0,0,1,0,0,0,1,1,1,0,0,0],\n",
    "          [0,0,0,1,0,0,0,0,1,0,0,0,1,0,0,1,0,0,1,1,0],\n",
    "          [0,0,0,0,1,0,0,0,0,1,0,0,0,1,0,0,1,0,1,0,1],\n",
    "          [0,0,0,0,0,1,0,0,0,0,1,0,0,0,1,0,0,1,0,1,1]\n",
    "          ]\n",
    "rhs_ineq=[12,\n",
    "          6,\n",
    "          5,\n",
    "          14,\n",
    "          9,\n",
    "          2,\n",
    "          12]\n",
    "lhs_eq=[[1,1,1,1,1,1,1,1,1,1,1,1,1,1,1,1,1,1,1,1,1]]\n",
    "rhs_eq=[30]\n",
    "#set the bundary for variables\n",
    "bnd = [(0, float(\"inf\")),\n",
    "       (0, float(\"inf\")),\n",
    "       (0, float(\"inf\")),\n",
    "       (0, float(\"inf\")),\n",
    "       (0, float(\"inf\")),\n",
    "       (0, float(\"inf\")),\n",
    "       (0, float(\"inf\")),\n",
    "       (0, float(\"inf\")),\n",
    "       (0, float(\"inf\")),\n",
    "       (0, float(\"inf\")),\n",
    "       (0, float(\"inf\")),\n",
    "       (0, float(\"inf\")),\n",
    "       (0, float(\"inf\")),\n",
    "       (0, float(\"inf\")),\n",
    "       (0, float(\"inf\")),\n",
    "       (0, float(\"inf\")),\n",
    "       (0, float(\"inf\")),\n",
    "       (0, float(\"inf\")),\n",
    "       (0, float(\"inf\")),\n",
    "       (0, float(\"inf\")),\n",
    "       (0, float(\"inf\"))]\n",
    "opt = linprog(c=obj, A_ub=lhs_ineq, b_ub=rhs_ineq,\n",
    "               A_eq=lhs_eq, b_eq=rhs_eq, bounds=bnd,\n",
    "               method=\"simplex\")\n",
    "opt"
   ]
  },
  {
   "source": [
    "## Q9\n",
    "b.\tSolve model that minimizes the numbers of bankers whose days off are consecutive using Excel solver. "
   ],
   "cell_type": "markdown",
   "metadata": {}
  },
  {
   "cell_type": "code",
   "execution_count": 3,
   "metadata": {},
   "outputs": [
    {
     "output_type": "execute_result",
     "data": {
      "text/plain": [
       "     con: array([0.])\n",
       "     fun: 0.0\n",
       " message: 'Optimization terminated successfully.'\n",
       "     nit: 16\n",
       "   slack: array([0., 0., 0., 0., 0., 0., 0.])\n",
       "  status: 0\n",
       " success: True\n",
       "       x: array([0., 2., 8., 0., 2., 0., 0., 6., 0., 0., 0., 0., 0., 0., 3., 0., 0.,\n",
       "       0., 0., 9., 0.])"
      ]
     },
     "metadata": {},
     "execution_count": 3
    }
   ],
   "source": [
    "# For i < j let xij be the number of workers who get day i and j off each week.  Here i= 1 is Monday, and i= 7 is Sunday.  Thus x12 is the number of workers getting Monday and Tuesday off, and x17 are the number of workers who get Monday and Sunday off.\n",
    "# obj=x12+x13+x14+x15+x16+x17+x23+x24+x25+x26+x27+x34+x35+x36+x37+x45+x46+x47+x56+x57+x67 \n",
    "# sense= minimization\n",
    "obj=[1,0,0,0,0,1,1,0,0,0,0,1,0,0,0,1,0,0,1,0,1]\n",
    "# set the constraints:\n",
    "# x12+x13+x14+x15+x16+x17 <= 12\n",
    "# x12+x23+x24+x25+x26+x27 <= 6\n",
    "# x13+x23+x34+x35+x36+x37 <= 5\n",
    "# x14+x24+x34+x45+x46+x47 <= 14\n",
    "# x15+x25+x35+x45+x56+x57 <= 9\n",
    "# x16+x26+x36+x46+x56+x67 <= 2\n",
    "# x17+x27+x37+x47+x57+x67 <=12\n",
    "# x12+x13+x14+x15+x16+x17+x23+x24+x25+x26+x27+x34+x35+x36+x37+x45+x46+x47+x56+x57+x67 = 30\n",
    "lhs_ineq=[[1,1,1,1,1,1,0,0,0,0,0,0,0,0,0,0,0,0,0,0,0],\n",
    "          [1,0,0,0,0,0,1,1,1,1,1,0,0,0,0,0,0,0,0,0,0],\n",
    "          [0,1,0,0,0,0,1,0,0,0,0,1,1,1,1,0,0,0,0,0,0],\n",
    "          [0,0,1,0,0,0,0,1,0,0,0,1,0,0,0,1,1,1,0,0,0],\n",
    "          [0,0,0,1,0,0,0,0,1,0,0,0,1,0,0,1,0,0,1,1,0],\n",
    "          [0,0,0,0,1,0,0,0,0,1,0,0,0,1,0,0,1,0,1,0,1],\n",
    "          [0,0,0,0,0,1,0,0,0,0,1,0,0,0,1,0,0,1,0,1,1]\n",
    "          ]\n",
    "rhs_ineq=[12,\n",
    "          6,\n",
    "          5,\n",
    "          14,\n",
    "          9,\n",
    "          2,\n",
    "          12]\n",
    "lhs_eq=[[1,1,1,1,1,1,1,1,1,1,1,1,1,1,1,1,1,1,1,1,1]]\n",
    "rhs_eq=[30]\n",
    "#set the bundary for variables\n",
    "bnd = [(0, float(\"inf\")),\n",
    "       (0, float(\"inf\")),\n",
    "       (0, float(\"inf\")),\n",
    "       (0, float(\"inf\")),\n",
    "       (0, float(\"inf\")),\n",
    "       (0, float(\"inf\")),\n",
    "       (0, float(\"inf\")),\n",
    "       (0, float(\"inf\")),\n",
    "       (0, float(\"inf\")),\n",
    "       (0, float(\"inf\")),\n",
    "       (0, float(\"inf\")),\n",
    "       (0, float(\"inf\")),\n",
    "       (0, float(\"inf\")),\n",
    "       (0, float(\"inf\")),\n",
    "       (0, float(\"inf\")),\n",
    "       (0, float(\"inf\")),\n",
    "       (0, float(\"inf\")),\n",
    "       (0, float(\"inf\")),\n",
    "       (0, float(\"inf\")),\n",
    "       (0, float(\"inf\")),\n",
    "       (0, float(\"inf\"))]\n",
    "opt = linprog(c=obj, A_ub=lhs_ineq, b_ub=rhs_ineq,\n",
    "               A_eq=lhs_eq, b_eq=rhs_eq, bounds=bnd,\n",
    "               method=\"simplex\")\n",
    "opt"
   ]
  }
 ]
}