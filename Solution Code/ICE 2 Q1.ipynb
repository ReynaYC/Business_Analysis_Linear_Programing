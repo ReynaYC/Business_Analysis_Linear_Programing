{
 "cells": [
  {
   "cell_type": "markdown",
   "metadata": {},
   "source": [
    "# ICE 2 \n"
   ]
  },
  {
   "cell_type": "markdown",
   "metadata": {},
   "source": [
    "Q1\n",
    "\n",
    "The Taste of Nature pet food company produces dog and cat food. Each food is comprised of meat like beef or pork, corn, and fillers like cereal by-products.  The company earns a profit on each product but there is a limited demand for them.  The table below summarizes the number of pounds of ingredients required and available, profits and demand.  The company wants to plan their product mix to maximize their profit.\n",
    "\n",
    "(a)\tSuppose that the demand represents the minimum amount the customers will purchase, i.e., the total number of bags of dog and cat food the firm can sell should be at least 40 and 30, respectively. Solve this problem using solver. How much should the firm produce to maximize profits? \n",
    "\n",
    "(b)\tSuppose that the demand represents the maximum amount the customers will purchase, i.e., the total number of bags of dog and cat food the firm can sell is at most 40 and 30, respectively. Solve this problem using solver. How much should the firm produce to maximize profits? \n",
    "\n",
    "(c)\tFor part b, what is the marginal value of one more pound of meat, i.e., how much does the profit change when the firm has 101 lbs of meat instead of 100 lbs? \n"
   ]
  },
  {
   "cell_type": "code",
   "execution_count": 1,
   "metadata": {},
   "outputs": [],
   "source": [
    "#Q1\n",
    "#a\n",
    "# import scipy\n",
    "from scipy.optimize import linprog"
   ]
  },
  {
   "cell_type": "code",
   "execution_count": 3,
   "metadata": {},
   "outputs": [
    {
     "data": {
      "text/plain": [
       "     con: array([], dtype=float64)\n",
       "     fun: 310.0\n",
       " message: \"Phase 1 of the simplex method failed to find a feasible solution. The pseudo-objective function evaluates to 7.2e+02 which exceeds the required tolerance of 1e-09 for a solution to be considered 'close enough' to zero to be a basic solution. Consider increasing the tolerance to be greater than 7.2e+02. If this tolerance is unacceptably  large the problem may be infeasible.\"\n",
       "     nit: 0\n",
       "   slack: array([-210., -210., -300.,    0.,    0.])\n",
       "  status: 2\n",
       " success: False\n",
       "       x: array([40., 30.])"
      ]
     },
     "execution_count": 3,
     "metadata": {},
     "output_type": "execute_result"
    }
   ],
   "source": [
    "\n",
    "obj1 = [4, 5]\n",
    " #Min problem\n",
    " #  4 means the coefficient for X2 = bags of Cat food to produce\n",
    " #  5 means the coefficient for X1 = bags of Dog food to produce\n",
    "lhs_ineq1 = [[4,  5], # Meat material available constraint left side\n",
    "            [6,  3], # Corn material available constraint left side\n",
    "            [4, 10], # Filler material available constraint left side\n",
    "            [-1, 0], # Dog food demand constraint left side\n",
    "            [0, -1]] # Cat food demand constraint left side\n",
    "                     # The total number of bags of dog and cat food the firm can sell should be at least 40 and 30, respectively.\n",
    "rhs_ineq1= [100, # Meat material available constraint right side\n",
    "            120,  # Corn material available constraint right side\n",
    "            160,  # Filler material available constraint right side\n",
    "            -40,  # Dog food demand constraint right side\n",
    "            -30]  # Cat food demand constraint right side\n",
    "bnd1 = [(0, float(\"inf\")),\n",
    "       (0, float(\"inf\"))]\n",
    "\n",
    "opt1 = linprog(c=obj1, A_ub=lhs_ineq1, b_ub=rhs_ineq1,\n",
    "                bounds=bnd1,\n",
    "               method=\"simplex\")\n",
    "opt1\n",
    " \t\n",
    "#Solution: A feasible solution wasn't found, which means that there is no solution to this problem. \n",
    "#The firm cannot produce at least 40 and 30 bags of dog and cat food, respectively, with the available materials."
   ]
  },
  {
   "cell_type": "code",
   "execution_count": 4,
   "metadata": {},
   "outputs": [
    {
     "data": {
      "text/plain": [
       "     con: array([], dtype=float64)\n",
       "     fun: -100.0\n",
       " message: 'Optimization terminated successfully.'\n",
       "     nit: 5\n",
       "   slack: array([ 0., 24.,  0., 30., 18.])\n",
       "  status: 0\n",
       " success: True\n",
       "       x: array([10., 12.])"
      ]
     },
     "execution_count": 4,
     "metadata": {},
     "output_type": "execute_result"
    }
   ],
   "source": [
    "#Q1\n",
    "#b\n",
    "from scipy.optimize import linprog\n",
    "obj2 = [-4, -5]\n",
    " # Max problem\n",
    " #  4 means the coefficient for X2 = bags of Cat food to produce\n",
    " #  5 means the coefficient for X1 = bags of Dog food to produce\n",
    "\n",
    "lhs_ineq2 = [[4,  5], \n",
    "            [6,  3], \n",
    "            [4, 10], \n",
    "            [1, 0], \n",
    "            [0, 1]] # The total number of bags of dog and cat food the firm can sell is at most 40 and 30, respectively. \n",
    "rhs_ineq2 = [100,\n",
    "            120,\n",
    "            160, \n",
    "            40, \n",
    "            30]  \n",
    "\n",
    "bnd2 = [(0, float(\"inf\")),\n",
    "       (0, float(\"inf\"))]\n",
    "\n",
    "opt2 = linprog(c=obj2, A_ub=lhs_ineq2, b_ub=rhs_ineq2,\n",
    "                bounds=bnd2,\n",
    "               method=\"simplex\")\n",
    "opt2\n",
    "#Solution: The firm should produce 10 and 12 bags of dog and cat food, respectively. The optimal profit is $100. "
   ]
  },
  {
   "cell_type": "code",
   "execution_count": 5,
   "metadata": {},
   "outputs": [
    {
     "data": {
      "text/plain": [
       "     con: array([], dtype=float64)\n",
       "     fun: -101.0\n",
       " message: 'Optimization terminated successfully.'\n",
       "     nit: 5\n",
       "   slack: array([ 0. , 21.6,  0. , 29.5, 18.2])\n",
       "  status: 0\n",
       " success: True\n",
       "       x: array([10.5, 11.8])"
      ]
     },
     "execution_count": 5,
     "metadata": {},
     "output_type": "execute_result"
    }
   ],
   "source": [
    "#Q1\n",
    "#c\n",
    "#Here is using scipy to solve this problem.\n",
    "from scipy.optimize import linprog\n",
    "obj3 = [-4, -5]\n",
    " # Max problem\n",
    " #  4 means the coefficient for X2 = bags of Cat food to produce\n",
    " #  5 means the coefficient for X1 = bags of Dog food to produce\n",
    "\n",
    "lhs_ineq3 = [[4,  5], \n",
    "            [6,  3], \n",
    "            [4, 10], \n",
    "            [1, 0], \n",
    "            [0, 1]]\n",
    "rhs_ineq3 = [101,  # The firm has 101 lbs of meat instead of 100 lbs now, \n",
    "                   # so meat material available constraint right side is 101 now.  \n",
    "            120,\n",
    "            160, \n",
    "            40, \n",
    "            30]  \n",
    "\n",
    "bnd3 = [(0, float(\"inf\")),\n",
    "       (0, float(\"inf\"))]\n",
    "\n",
    "opt3 = linprog(c=obj3, A_ub=lhs_ineq3, b_ub=rhs_ineq3,\n",
    "                bounds=bnd3,\n",
    "               method=\"simplex\")\n",
    "opt3\n",
    "#Solution: The optimal profit increases from $100 to $101. Hence, one more pound of meat is worth at most $1 to the firm."
   ]
  },
  {
   "cell_type": "code",
   "execution_count": 23,
   "metadata": {},
   "outputs": [],
   "source": [
    "#Q1\n",
    "#c\n",
    "#Here is using pulp to solve this problem.\n",
    "\n",
    "from pulp import LpMaximize, LpProblem, LpStatus, lpSum, LpVariable"
   ]
  },
  {
   "cell_type": "code",
   "execution_count": 9,
   "metadata": {},
   "outputs": [
    {
     "output_type": "execute_result",
     "data": {
      "text/plain": [
       "dog_cat_food_profit:\n",
       "MAXIMIZE\n",
       "4*X1 + 5*X2 + 0\n",
       "SUBJECT TO\n",
       "meat_constraint: 4 X1 + 5 X2 <= 101\n",
       "\n",
       "corns_constraint: 6 X1 + 3 X2 <= 120\n",
       "\n",
       "filler_constraint: 4 X1 + 10 X2 <= 160\n",
       "\n",
       "dog_food_constraint: X1 <= 40\n",
       "\n",
       "cat_food_constraint: X2 <= 30\n",
       "\n",
       "VARIABLES\n",
       "X1 Continuous\n",
       "X2 Continuous"
      ]
     },
     "metadata": {},
     "execution_count": 9
    }
   ],
   "source": [
    "# Create the model\n",
    "model = LpProblem(name=\"dog_cat_food_profit\", sense=LpMaximize)\n",
    "\n",
    "# Initialize the decision variables\n",
    "x = LpVariable(name=\"X1\", lowBound=0) # X1 = bags of Dog food to produce\n",
    "y = LpVariable(name=\"X2\", lowBound=0) # X2 = bags of Cat food to produce\n",
    "\n",
    "# Add the objective function to the model  MAX: 4 X1 + 5 X2\n",
    "obj_func = 4 * x + 5 * y\n",
    "model += obj_func\n",
    "\n",
    "\n",
    "# Add the constraints to the model\n",
    "model += (4*x + 5*y <= 101, \"meat_constraint\")  \n",
    "# 4 X1 + 5 X2 ≤100 (meat)\n",
    "model += (6*x + 3*y <= 120 , \"corns_constraint\")\n",
    "# 6 X1 + 3 X2 ≤120 (corns)\n",
    "model += (4*x + 10*y <= 160, \"filler_constraint\")\n",
    "# 4 X1 + 10 X2 ≤ 160 (filler)\n",
    "model += (x <= 40, \"dog_food_constraint\")\n",
    "# X1 ≤ 40 (Dog food demand)\n",
    "model += (y <= 30, \"cat_food_constraint\")\n",
    "# X2 ≤ 30 (Cat food demand)\n",
    "\n",
    "model"
   ]
  },
  {
   "cell_type": "code",
   "execution_count": 15,
   "metadata": {},
   "outputs": [],
   "source": [
    "# Solve the problem\n",
    "status = model.solve()\n",
    "#.solve() calls the underlying solver, modifies the model object, and returns the integer status of the solution, which will be 1 if the optimum is found. "
   ]
  },
  {
   "cell_type": "code",
   "execution_count": 12,
   "metadata": {},
   "outputs": [
    {
     "output_type": "stream",
     "name": "stdout",
     "text": [
      "status: 1, Optimal\n"
     ]
    }
   ],
   "source": [
    "print(f\"status: {model.status}, {LpStatus[model.status]}\") \n",
    "# This model.status returns the integer status of the solution, which will be 1 if the optimum is found. "
   ]
  },
  {
   "cell_type": "code",
   "execution_count": 25,
   "metadata": {},
   "outputs": [
    {
     "output_type": "stream",
     "name": "stdout",
     "text": [
      "The firm should produce 10.5 bags of Dog food (X1 = 10.5 ).\nThe firm should produce 11.8 bags of Cat food (X2 = 11.8 ).\n"
     ]
    }
   ],
   "source": [
    "print(\"The firm should produce\",model.variables()[0].value(),\"bags of Dog food (X1 =\", model.variables()[0].value(),\").\")\n",
    "print(\"The firm should produce\",model.variables()[1].value(),\"bags of Cat food (X2 =\", model.variables()[1].value(),\").\")"
   ]
  },
  {
   "cell_type": "code",
   "execution_count": 14,
   "metadata": {},
   "outputs": [
    {
     "output_type": "stream",
     "name": "stdout",
     "text": [
      "meat_constraint: 0.0\ncorns_constraint: -21.599999999999994\nfiller_constraint: 0.0\ndog_food_constraint: -29.5\ncat_food_constraint: -18.2\n"
     ]
    }
   ],
   "source": [
    "for name, constraint in model.constraints.items():    # model.constraints contains the values of the slack variables\n",
    "    print(f\"{name}: {constraint.value()}\")\n"
   ]
  },
  {
   "cell_type": "code",
   "execution_count": 15,
   "metadata": {},
   "outputs": [
    {
     "output_type": "stream",
     "name": "stdout",
     "text": [
      "The optimal maximum profit is $ 101.0\n"
     ]
    }
   ],
   "source": [
    "print(f\"The optimal maximum profit is $ {model.objective.value()}\") # model.objective holds the value of the objective function, which is 101.0"
   ]
  },
  {
   "cell_type": "code",
   "execution_count": 17,
   "metadata": {},
   "outputs": [
    {
     "output_type": "stream",
     "name": "stdout",
     "text": [
      "Solution: The optimal profit increases from $100 to $101. Hence, one more pound of meat is worth at most $1 to the firm.\n"
     ]
    }
   ],
   "source": [
    "print(\"Solution: The optimal profit increases from $100 to $101. Hence, one more pound of meat is worth at most $1 to the firm.\")"
   ]
  }
 ],
 "metadata": {
  "kernelspec": {
   "display_name": "Python 3",
   "language": "python",
   "name": "python3"
  },
  "language_info": {
   "codemirror_mode": {
    "name": "ipython",
    "version": 3
   },
   "file_extension": ".py",
   "mimetype": "text/x-python",
   "name": "python",
   "nbconvert_exporter": "python",
   "pygments_lexer": "ipython3",
   "version": "3.8.3-final"
  }
 },
 "nbformat": 4,
 "nbformat_minor": 2
}