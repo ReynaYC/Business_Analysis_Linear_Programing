{
 "metadata": {
  "language_info": {
   "codemirror_mode": {
    "name": "ipython",
    "version": 3
   },
   "file_extension": ".py",
   "mimetype": "text/x-python",
   "name": "python",
   "nbconvert_exporter": "python",
   "pygments_lexer": "ipython3",
   "version": "3.8.3-final"
  },
  "orig_nbformat": 2,
  "kernelspec": {
   "name": "python3",
   "display_name": "Python 3",
   "language": "python"
  }
 },
 "nbformat": 4,
 "nbformat_minor": 2,
 "cells": [
  {
   "source": [
    "Q3\n",
    "\n",
    "Mercotic is a leader in slip-ring industry. A $750,000 order has just been received. Unfortunately, Mercotic does not have enough wiring and harnessing capacity to fill the order by its due date. However, the company can subcontract any portion of this order to one of its competitors. Mercotic wants to determine the number of slip rings to make and number to buy to fill the customer order at the least possible cost. All the necessary information is given in the table below. The wiring and harnessing capacities are 11,000 and 4,500 hours, respectively.\n",
    "\n",
    "(a) How much of each model should Mercotic buy and make to minimize costs?\n",
    "\n",
    "(b)\tSuppose now that Mary, Mercotic’s CEO would like to make sure that the firm produces at least as many Model 2s as Model 3s. She believes that this will decrease costs. Do you agree with this claim?\n",
    "\n",
    "(c)\tMary consults industrial and manufacturing engineers, and they suggest that with a new process, each model can be produced using half of their current harnessing requirements. If this new process costs $10,000, should Mercotic use it?   (Assume that Marc doesn’t require at least as many Model 2s and Model 3s.)\n",
    "\n",
    "(d)\tMary suspects that only the relative costs of making and buying rather than the exact costs matter in the optimal solution. Specifically, she thinks that if the costs of making and buying increases by the same percentage, the optimal plan stays the same. Is she correct?\n"
   ],
   "cell_type": "markdown",
   "metadata": {}
  },
  {
   "source": [
    "\n",
    "#Q3(a)\n",
    "\n",
    "# M1 = Number of model 1 slip rings to make in-house\n",
    "# M2 = Number of model 2 slip rings to make in-house\n",
    "# M3 = Number of model 3 slip rings to make in-house\n",
    "# B1 = Number of model 1 slip rings to buy from competitor\n",
    "# B2 = Number of model 2 slip rings to buy from competitor\n",
    "# B3 = Number of model 3 slip rings to buy from competitor\n",
    "\n",
    "from scipy.optimize import linprog \n",
    "# Now linprog() has been imported, optimizing can be started\n",
    "obj1 = [50, 83, 130, 61, 97, 145] # obj holds the coefficients from the objective function.\n",
    " #      ─┬  ─┬   ─┬  ─┬  ─┬   ─┬\n",
    " #       │   │    │   │   │    │\n",
    " #       │   │    │   │   │    └┤ Coefficient for B3\n",
    " #       │   │    │   │   └┤ Coefficient for B2\n",
    " #       │   │    │    └┤Coefficient for B1\n",
    " #       │   │    └┤ Coefficient for M3\n",
    " #       │   └┤ Coefficient for M2\n",
    " #       └┤ Coefficient for M1\n",
    "\n",
    "lhs_eq1 = [[1,0,0,1,0,0],  # Number oder of Model 1 constraint left side\n",
    "          [0,1,0,0,1,0],  # Number oder of Model 2 constraint left side\n",
    "          [0,0,1,0,0,1]]  # Number oder of Model 3 constraint left side\n",
    "#lhs_eq holds the left-side coefficients from the equality (Number oder of Model 1&2&3 constraint) constraint.\n",
    "\n",
    "rhs_eq1 = [3000,  # Number oder of Model 1 constraint right side\n",
    "          2000,  # Number oder of Model 2 constraint right side\n",
    "          900]   # Number oder of Model 3 constraint right side\n",
    "#rhs_eq holds the right-side coefficients from the equality (Number oder of Model 1&2&3 constraint) constraint.\n",
    "\n",
    "lhs_ineq1 = [[2,1.5,3,0,0,0], # Wiring capacities constraint left side\n",
    "            [1,2,1,0,0,0]]  # Harnessing capacities constraint left side\n",
    "#lhs_ineq holds the left-side coefficients from the inequality (Wiring and Harnessing) constraints.\n",
    "\n",
    "rhs_ineq1 = [11000 ,  # Wiring capacities constraint right side\n",
    "            4500],  # Harnessing capacities constraint right side\n",
    "#rhs_ineq holds the right-side coefficients from the inequality (Wiring and Harnessing) constraints.\n",
    "\n",
    "bnd1 = [(0, float(\"inf\")),  # Bounds of M1\n",
    "       (0, float(\"inf\")),  # Bounds of M2\n",
    "       (0, float(\"inf\")),  # Bounds of M3\n",
    "       (0, float(\"inf\")),  # Bounds of B1\n",
    "       (0, float(\"inf\")),  # Bounds of B2\n",
    "       (0, float(\"inf\"))]  # Bounds of B3\n",
    "# bnd defines the bounds for each variable in the same order as the coefficients. They are all between zero and positive infinity.\n",
    "\n",
    "opt1 = linprog(c=obj1, A_ub=lhs_ineq1, b_ub=rhs_ineq1,   #lingrog() optimizes and solves the problem\n",
    "                A_eq=lhs_eq1, b_eq=rhs_eq1,\n",
    "                 bounds=bnd1,\n",
    "               method=\"revised simplex\")\n",
    "\n",
    "opt1 # Here we can see the firm should make 3,000, 300, and 900 models 1,2, and 3s, respectively, and purchase 1700 Model 2s. The optimal cost is $456,800."
   ],
   "cell_type": "code",
   "metadata": {},
   "execution_count": 2,
   "outputs": [
    {
     "output_type": "execute_result",
     "data": {
      "text/plain": [
       "     con: array([0., 0., 0.])\n",
       "     fun: 456800.0\n",
       " message: 'Optimization terminated successfully.'\n",
       "     nit: 3\n",
       "   slack: array([1850.,    0.])\n",
       "  status: 0\n",
       " success: True\n",
       "       x: array([3000.,  300.,  900.,    0., 1700.,    0.])"
      ]
     },
     "metadata": {},
     "execution_count": 2
    }
   ]
  },
  {
   "cell_type": "code",
   "execution_count": 30,
   "metadata": {},
   "outputs": [
    {
     "output_type": "execute_result",
     "data": {
      "text/plain": [
       "     con: array([0., 0., 0.])\n",
       "     fun: 460000.0\n",
       " message: 'Optimization terminated successfully.'\n",
       "     nit: 5\n",
       "   slack: array([2750.,    0.,    0.])\n",
       "  status: 0\n",
       " success: True\n",
       "       x: array([3000.,  500.,  500.,    0., 1500.,  400.])"
      ]
     },
     "metadata": {},
     "execution_count": 30
    }
   ],
   "source": [
    "#Q3(b)\n",
    "\n",
    "obj2 = [50, 83, 130, 61, 97, 145]\n",
    "lhs_eq2 = [[1,0,0,1,0,0], \n",
    "          [0,1,0,0,1,0],  \n",
    "          [0,0,1,0,0,1]] \n",
    "rhs_eq2 = [3000,  \n",
    "          2000,  \n",
    "          900]\n",
    "lhs_ineq2 = [[2,1.5,3,0,0,0],\n",
    "            [1,2,1,0,0,0],\n",
    "            [0,-1,1,0,0,0]] # We add a constraint in the solver where M2>=M3, which is -M2+M3<=0\n",
    "rhs_ineq2 = [11000 ,  \n",
    "            4500,\n",
    "            0], \n",
    "\n",
    "bnd2 = [(0, float(\"inf\")),  \n",
    "       (0, float(\"inf\")),  \n",
    "       (0, float(\"inf\")),  \n",
    "       (0, float(\"inf\")),  \n",
    "       (0, float(\"inf\")),  \n",
    "       (0, float(\"inf\"))]\n",
    "opt2 = linprog(c=obj2, A_ub=lhs_ineq2, b_ub=rhs_ineq2,   #lingrog() optimizes and solves the problem\n",
    "                A_eq=lhs_eq2, b_eq=rhs_eq2,\n",
    "                 bounds=bnd2,\n",
    "               method=\"revised simplex\")\n",
    "\n",
    "opt2\n"
   ]
  },
  {
   "cell_type": "code",
   "execution_count": 43,
   "metadata": {},
   "outputs": [
    {
     "output_type": "stream",
     "name": "stdout",
     "text": [
      "I don't agree with Mary's claim. Instead, this additional constraint increase costs by 460000.0 - 456800.0 = 3200.0\n"
     ]
    }
   ],
   "source": [
    "diff = opt1.fun - opt2.fun\n",
    "if diff > 0 :\n",
    "    print(\"I do agree with Mary's claim, that is, this additional constraint decrease costs by\",opt1.fun,\"-\", opt2.fun,\"=\", abs(diff))\n",
    "else:\n",
    "    print(\"I don't agree with Mary's claim. Instead, this additional constraint increase costs by\",opt2.fun,\"-\", opt1.fun,\"=\", abs(diff))"
   ]
  },
  {
   "cell_type": "code",
   "execution_count": 46,
   "metadata": {},
   "outputs": [
    {
     "output_type": "execute_result",
     "data": {
      "text/plain": [
       "     con: array([0., 0., 0.])\n",
       "     fun: 436500.0\n",
       " message: 'Optimization terminated successfully.'\n",
       "     nit: 4\n",
       "   slack: array([  0.        , 666.66666667])\n",
       "  status: 0\n",
       " success: True\n",
       "       x: array([3000.        , 2000.        ,  666.66666667,    0.        ,\n",
       "          0.        ,  233.33333333])"
      ]
     },
     "metadata": {},
     "execution_count": 46
    }
   ],
   "source": [
    "#Q3(c)\n",
    "obj3 = [50, 83, 130, 61, 97, 145]\n",
    "lhs_eq3 = [[1,0,0,1,0,0], \n",
    "          [0,1,0,0,1,0],  \n",
    "          [0,0,1,0,0,1]] \n",
    "rhs_eq3 = [3000,  \n",
    "          2000,  \n",
    "          900]\n",
    "lhs_ineq3 = [[2,1.5,3,0,0,0],\n",
    "            [0.5,1,0.5,0,0,0]] #Here each model can be produced using half of their current harnessing requirements.\n",
    "rhs_ineq3 = [11000 ,  \n",
    "            4500] \n",
    "\n",
    "bnd3 = [(0, float(\"inf\")),  \n",
    "       (0, float(\"inf\")),  \n",
    "       (0, float(\"inf\")),  \n",
    "       (0, float(\"inf\")),  \n",
    "       (0, float(\"inf\")),  \n",
    "       (0, float(\"inf\"))]\n",
    "opt3 = linprog(c=obj3, A_ub=lhs_ineq3, b_ub=rhs_ineq3,   #lingrog() optimizes and solves the problem\n",
    "                A_eq=lhs_eq3, b_eq=rhs_eq3,\n",
    "                 bounds=bnd3,\n",
    "               method=\"revised simplex\")\n",
    "\n",
    "opt3"
   ]
  },
  {
   "cell_type": "code",
   "execution_count": 49,
   "metadata": {},
   "outputs": [
    {
     "output_type": "stream",
     "name": "stdout",
     "text": [
      "The total cost decreases from 456800.0 to 436500.0 , which is a decrease of 20300.0\nSince this decrease is greater than $10,000, the firm should use this new process.\n"
     ]
    }
   ],
   "source": [
    "diff1 = opt1.fun - opt3.fun\n",
    "if diff1 > 0 :\n",
    "    print(\"The total cost decreases from\", opt1.fun, \"to\", opt3.fun,\", which is a decrease of\", diff1)\n",
    "    if diff1 > 10000:\n",
    "        print(\"Since this decrease is greater than $10,000, the firm should use this new process.\")\n",
    "    else:\n",
    "        print(\"Don't use this process.\")\n",
    "else:\n",
    "    print(\"Don't use this process.\")"
   ]
  },
  {
   "cell_type": "code",
   "execution_count": 53,
   "metadata": {},
   "outputs": [
    {
     "output_type": "execute_result",
     "data": {
      "text/plain": [
       "     con: array([0., 0., 0.])\n",
       "     fun: 502480.00000000006\n",
       " message: 'Optimization terminated successfully.'\n",
       "     nit: 3\n",
       "   slack: array([1850.,    0.])\n",
       "  status: 0\n",
       " success: True\n",
       "       x: array([3000.,  300.,  900.,    0., 1700.,    0.])"
      ]
     },
     "metadata": {},
     "execution_count": 53
    }
   ],
   "source": [
    "#Q3(d)\n",
    "#Let the costs of making and buying increases by the same 10% \n",
    "obj4 = [50*1.1, 83*1.1, 130*1.1, 61*1.1, 97*1.1, 145*1.1] #each cost should multiplied by 1.1\n",
    "lhs_eq4 = [[1,0,0,1,0,0], \n",
    "          [0,1,0,0,1,0],  \n",
    "          [0,0,1,0,0,1]] \n",
    "rhs_eq4 = [3000,  \n",
    "          2000,  \n",
    "          900]\n",
    "lhs_ineq4 = [[2,1.5,3,0,0,0],\n",
    "            [1,2,1,0,0,0]] #Here each model can be produced using half of their current harnessing requirements.\n",
    "rhs_ineq4 = [11000 ,  \n",
    "            4500] \n",
    "\n",
    "bnd4 = [(0, float(\"inf\")),  \n",
    "       (0, float(\"inf\")),  \n",
    "       (0, float(\"inf\")),  \n",
    "       (0, float(\"inf\")),  \n",
    "       (0, float(\"inf\")),  \n",
    "       (0, float(\"inf\"))]\n",
    "opt4 = linprog(c=obj4, A_ub=lhs_ineq4, b_ub=rhs_ineq4,   #lingrog() optimizes and solves the problem\n",
    "                A_eq=lhs_eq4, b_eq=rhs_eq4,\n",
    "                 bounds=bnd4,\n",
    "               method=\"revised simplex\")\n",
    "\n",
    "opt4"
   ]
  },
  {
   "cell_type": "code",
   "execution_count": 57,
   "metadata": {},
   "outputs": [
    {
     "output_type": "stream",
     "name": "stdout",
     "text": [
      "The solution does not change. Mary is correct.\n"
     ]
    }
   ],
   "source": [
    "if opt1.x.all() == opt4.x.all():\n",
    "    print(\"The solution does not change. Mary is correct.\")\n",
    "else:\n",
    "    print(\"Mary is wrong.\")"
   ]
  },
  {
   "cell_type": "code",
   "execution_count": 2,
   "metadata": {},
   "outputs": [],
   "source": [
    "################################################################################\n",
    "#Q7\n",
    "from pulp import LpMaximize, LpProblem, LpStatus, lpSum, LpVariable"
   ]
  },
  {
   "cell_type": "code",
   "execution_count": null,
   "metadata": {},
   "outputs": [],
   "source": []
  },
  {
   "cell_type": "code",
   "execution_count": 3,
   "metadata": {},
   "outputs": [
    {
     "output_type": "execute_result",
     "data": {
      "text/plain": [
       "Williams_Max_Revenue:\n",
       "MAXIMIZE\n",
       "1500*PC + 1000*PE + 0\n",
       "SUBJECT TO\n",
       "Executive_NU_constraint: PC - PE >= -200\n",
       "\n",
       "Creativista_NU_constraint: - PC + PE >= -300\n",
       "\n",
       "Executivew_value_constraint: - PE >= -1000\n",
       "\n",
       "Creativista_value_constraint: - PC >= -1500\n",
       "\n",
       "VARIABLES\n",
       "PC Continuous\n",
       "PE Continuous"
      ]
     },
     "metadata": {},
     "execution_count": 3
    }
   ],
   "source": [
    "# Create the model\n",
    "model = LpProblem(name=\"Williams_Max_Revenue\", sense=LpMaximize)\n",
    "\n",
    "# Initialize the decision variables\n",
    "x = LpVariable(name=\"PE\", lowBound=0) # PE = Per unit price of the Executive, lowBound = 0 means now 0 <= PE <= infinity.\n",
    "y = LpVariable(name=\"PC\", lowBound=0) # PC = Per unit price of the Creativista, lowBound = 0 means now 0 <= PC <= infinity.\n",
    "\n",
    "# Add the objective function to the model  MAX 1000 PE + 1500 PC\n",
    "obj_func = 1000 * x + 1500 * y\n",
    "model += obj_func\n",
    "\n",
    "# Add the constraints to the model\n",
    "model += (1000 - x >= 800 - y, \"Executive_NU_constraint\")  \n",
    "#1000 - PE > 800 – PC (This constraint ensures that the net utility of the executive is higher for group 1) \n",
    "\n",
    "model += (1500 -y >= 1200 - x, \"Creativista_NU_constraint\")\n",
    "#1500 – PC > 1200 – PE (This constraint ensures that the net utility of the creativista is higher for group 2) \n",
    "\n",
    "\n",
    "model += (1000 - x >= 0, \"Executivew_value_constraint\")\n",
    "#1000 – PE >= 0\n",
    "model += (1500 - y >= 0, \"Creativista_value_constraint\")\n",
    "#1500 – PC >= 0 \n",
    "\n",
    "\n",
    "model"
   ]
  },
  {
   "cell_type": "code",
   "execution_count": 6,
   "metadata": {},
   "outputs": [],
   "source": [
    "# Solve the problem\n",
    "status = model.solve()\n",
    "#.solve() calls the underlying solver, modifies the model object, and returns the integer status of the solution, which will be 1 if the optimum is found. \n"
   ]
  },
  {
   "cell_type": "code",
   "execution_count": 8,
   "metadata": {},
   "outputs": [
    {
     "output_type": "stream",
     "name": "stdout",
     "text": [
      "status: 1, Optimal\n"
     ]
    }
   ],
   "source": [
    "print(f\"status: {model.status}, {LpStatus[model.status]}\") # This model.status returns the integer status of the solution, which will be 1 if the optimum is found. "
   ]
  },
  {
   "cell_type": "code",
   "execution_count": 65,
   "metadata": {},
   "outputs": [
    {
     "output_type": "stream",
     "name": "stdout",
     "text": [
      "The optimal revenue is $ 2950000.0\n"
     ]
    }
   ],
   "source": [
    "print(f\"The optimal revenue is $ {model.objective.value()}\") # model.objective holds the value of the objective function, which is 2,950,000"
   ]
  },
  {
   "cell_type": "code",
   "execution_count": 10,
   "metadata": {},
   "outputs": [
    {
     "output_type": "stream",
     "name": "stdout",
     "text": [
      "PC: 1300.0\nPE: 1000.0\n"
     ]
    }
   ],
   "source": [
    "for var in model.variables():   \n",
    "    print(f\"{var.name}: {var.value()}\")\n",
    "# The objects PE and PC have the optimal values of the decision variables. model.variables() returns a list with the decision variables:"
   ]
  },
  {
   "cell_type": "code",
   "execution_count": 61,
   "metadata": {},
   "outputs": [
    {
     "output_type": "stream",
     "name": "stdout",
     "text": [
      "The firm should set the price of the Executive as $ 1000.0\nThe firm should set the price of the Creativista as $ 1300.0\n"
     ]
    }
   ],
   "source": [
    "print(\"The firm should set the price of the Executive as $\", model.variables()[1].value())\n",
    "print(\"The firm should set the price of the Creativista as $\", model.variables()[0].value())"
   ]
  },
  {
   "cell_type": "code",
   "execution_count": 11,
   "metadata": {},
   "outputs": [
    {
     "output_type": "stream",
     "name": "stdout",
     "text": [
      "Executive_NU_constraint: 500.0\nCreativista_NU_constraint: 0.0\nExecutivew_value_constraint: 0.0\nCreativista_value_constraint: 200.0\n"
     ]
    }
   ],
   "source": [
    "for name, constraint in model.constraints.items():    # model.constraints contains the values of the slack variables\n",
    "    print(f\"{name}: {constraint.value()}\")"
   ]
  }
 ]
}