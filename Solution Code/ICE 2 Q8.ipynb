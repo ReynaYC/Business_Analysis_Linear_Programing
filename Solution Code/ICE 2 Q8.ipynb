{
 "metadata": {
  "language_info": {
   "codemirror_mode": {
    "name": "ipython",
    "version": 3
   },
   "file_extension": ".py",
   "mimetype": "text/x-python",
   "name": "python",
   "nbconvert_exporter": "python",
   "pygments_lexer": "ipython3",
   "version": "3.8.5-final"
  },
  "orig_nbformat": 2,
  "kernelspec": {
   "name": "python38564bitbcc4d76a06654eb692dff75496a67b7b",
   "display_name": "Python 3.8.5 64-bit",
   "language": "python"
  }
 },
 "nbformat": 4,
 "nbformat_minor": 2,
 "cells": [
  {
   "cell_type": "code",
   "execution_count": 1,
   "metadata": {},
   "outputs": [],
   "source": [
    "from scipy.optimize import linprog"
   ]
  },
  {
   "source": [
    "## Q8\n",
    "\n",
    "Unwind Wine company produces two types of blended wines, Ocean View and Lake Life by mixing two wines. Ocean View must contain at least 75% of type 1 wine and Lake Life must contain at least 45% of type 1 wine. Ocean View sells for \\$1 per ounce and Lake Life sells for \\$7 per ounce. The firm uses two types of mixing processes. The first process uses 8 ounces of raw material in one hour and 3 hours of labor and it yields 4 ounces of each type of wine. The second process uses 6 ounces of raw material, 2 hours of labor, and yields 5 ounces of type 1 and 2 ounces of type 2 wine. Unwind Wine company has 6000 ounces of raw material and 2000 hours of labor available. Write the linear mathematical model that maximizes Unwind Wine Company’s revenue. "
   ],
   "cell_type": "markdown",
   "metadata": {}
  },
  {
   "cell_type": "code",
   "execution_count": 2,
   "metadata": {},
   "outputs": [
    {
     "output_type": "execute_result",
     "data": {
      "text/plain": [
       "     con: array([], dtype=float64)\n",
       "     fun: -49000.0\n",
       " message: 'Optimization terminated successfully.'\n",
       "     nit: 3\n",
       "   slack: array([   0.,    0.,    0.,    0.,    0., 1850.])\n",
       "  status: 0\n",
       " success: True\n",
       "       x: array([   0., 1000.,    0.,    0., 5000., 2000.])"
      ]
     },
     "metadata": {},
     "execution_count": 2
    }
   ],
   "source": [
    "# pre processing data \n",
    "'''\n",
    " x1 = process 1\n",
    " x2 = process 2\n",
    " x3 = OV wine 1\n",
    " x4 = OV wine 2\n",
    " x5 = LL wine 1\n",
    " x6 = LL wine 2\n",
    "\n",
    " objective = 0*x1+0*x2+(x3+x4)*1+(x5+x6)*7 -> 0*x1+0*x2+x3+x4+7*x5+7*x6\n",
    "\n",
    " wine 1 yield = 4*x1+5*x2\n",
    " wine 2 yield = 4*x1+2*x2\n",
    " \n",
    " constrains \n",
    " Wine 1 limit = x3+x5 <= 4*x1+5*x2 -> -4*x1-5*x2+x3+x5 <= 0\n",
    " Wine 2 limit = x4+x6 <= 4*x1+2*x2 -> -4*x1-2*x2+x4+x6 <= 0\n",
    " OV blend = x3 >= (x3+x4)*0.75 -> -0.25*x3+0.75*x4 <= 0\n",
    " LL blend = x5 >= (x5+x6)*0.45 -> -0.55*x5+0.45*x6 <= 0\n",
    "'''\n",
    "\n",
    "# objective function coefficients\n",
    "# 0*x1+0*x2+x3+x4+7*x5+7*x6\n",
    "obj = [0, 0, -1, -1, -7, -7] # maximize\n",
    "\n",
    "# left hand side coefficients\n",
    "lhs_ineq = [[8,6,0,0,0,0], \n",
    "            [3,2,0,0,0,0],\n",
    "            [-4,-5,1,0,1,0], \n",
    "            [-4,-2,0,1,0,1], \n",
    "            [0,0,-0.25,0.75,0,0], \n",
    "            [0,0,0,0,-0.55,0.45], \n",
    "            ]  \n",
    "\n",
    "# right hand side values\n",
    "rhs_ineq = [6000,   # material\n",
    "            2000,   # labor\n",
    "            0,      # wine 1 limit \n",
    "            0,      # wine 2 limit \n",
    "            0,      # OV blend\n",
    "            0,      # LL blend\n",
    "            ]  \n",
    "# lhs_ineq <= rhs_ineq \n",
    "\n",
    "# equal constrains\n",
    "# lhs_eq = [[0,0,0,0,0,0,0,0,1]] \n",
    "# rhs_eq = [1] # x9 = 1\n",
    "\n",
    "bnd = [(0, float(\"inf\")),  \n",
    "       (0, float(\"inf\")), \n",
    "       (0, float(\"inf\")), \n",
    "       (0, float(\"inf\")), \n",
    "       (0, float(\"inf\")), \n",
    "       (0, float(\"inf\"))\n",
    "       ]  \n",
    "\n",
    "opt = linprog(c=obj, A_ub=lhs_ineq, b_ub=rhs_ineq,\n",
    "                # A_eq=lhs_eq, b_eq=rhs_eq,\n",
    "                bounds=bnd,\n",
    "                method=\"revised simplex\")\n",
    "opt"
   ]
  }
 ]
}