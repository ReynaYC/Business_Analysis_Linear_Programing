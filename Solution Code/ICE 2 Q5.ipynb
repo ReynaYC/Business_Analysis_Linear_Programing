{
 "metadata": {
  "language_info": {
   "codemirror_mode": {
    "name": "ipython",
    "version": 3
   },
   "file_extension": ".py",
   "mimetype": "text/x-python",
   "name": "python",
   "nbconvert_exporter": "python",
   "pygments_lexer": "ipython3",
   "version": "3.8.5-final"
  },
  "orig_nbformat": 2,
  "kernelspec": {
   "name": "python3",
   "display_name": "Python 3",
   "language": "python"
  }
 },
 "nbformat": 4,
 "nbformat_minor": 2,
 "cells": [
  {
   "cell_type": "code",
   "execution_count": 1,
   "metadata": {},
   "outputs": [],
   "source": [
    "from scipy.optimize import linprog"
   ]
  },
  {
   "source": [
    "## Q5\n",
    "A commodiities dealer would like to trans port the following products abord the ship: 1(avaibale for 400 tons), 2(avaibale for 3000 tons), 3(avaiable for 2000 tons), 4（avaiable for 1000 tons). 1 has 40 volume per ton, 2 has 25 volume per ton, 3 has 60 volume per ton and 4 has 50 volume per ton. their profit per ton are 70, 50, 60, 80. \n",
    "\n",
    "Now the ships have 3 places to load: forward, center and rear with weight capacities of 3000, 5000, and 2000 and volume capacities of 100000, 150000, and 120000. More than one type of commodity can be placed in the same cargo hold. \n",
    "\n",
    "However, because of balance considerations, the weight in the forward cargo hold must be within 10 percent of the weight in the rear cargo hold, and the center cargo hold must be between 40 percent and 60 percent of the total weight on board. "
   ],
   "cell_type": "markdown",
   "metadata": {}
  },
  {
   "cell_type": "code",
   "execution_count": 2,
   "metadata": {},
   "outputs": [
    {
     "output_type": "execute_result",
     "data": {
      "text/plain": [
       "     con: array([], dtype=float64)\n",
       "     fun: -574499.9999999999\n",
       " message: 'Optimization terminated successfully.'\n",
       "     nit: 11\n",
       "   slack: array([0.00000000e+00, 0.00000000e+00, 9.25000000e+02, 3.41060513e-13,\n",
       "       8.00000000e+02, 1.25000000e+02, 4.54747351e-13, 1.05000000e+04,\n",
       "       0.00000000e+00, 1.00000000e+04, 4.00000000e+02, 0.00000000e+00,\n",
       "       1.24500000e+03, 5.70000000e+02])\n",
       "  status: 0\n",
       " success: True\n",
       "       x: array([2125., 1875.,    0.,    0., 3000.,    0.,   75.,    0., 1000.,\n",
       "          0.,    0., 1000.])"
      ]
     },
     "metadata": {},
     "execution_count": 2
    }
   ],
   "source": [
    "# set the objective fucntion \n",
    "# obj=-(F1*70+C1*70+R1*70+F2*50+C2*50+R2*50+F3*60+C3*60+R3*60+F4*80+C4*80+R4*80)\n",
    "# sense = minimize\n",
    "obj=[-70,-70,-70,-50,-50,-50,-60,-60,-60,-80,-80,-80]\n",
    "# set the right hand constraints:\n",
    "# F1+C1+R1 <= 4000\n",
    "# F2+C2+R2 <= 3000\n",
    "# F3+C3+R3 <= 2000\n",
    "# F4+C4+R4 <= 1000\n",
    "# F1+F2+F3+F4 <= 3000\n",
    "# C1+C2+C3+C4 <= 5000\n",
    "# R1+R2+R3+R4 <= 2000\n",
    "# 40*F1+25*F2+60*F3+50*F4 <= 100000\n",
    "# 40*C1+25*C2+60*C3+50*C4 <= 150000\n",
    "# 40*R1+25*R2+60*R3+50*R4 <= 120000\n",
    "# -1*F1+0.9*R1-1*F2+0.9*R2-1*F3+0.9*R3-1*F4+0.9*R4 <= 0\n",
    "# 1*F1-1.1*R1+1*F2-1.1*R2+1*F3-1.1*R3+1*F4-1.1*R4 <= 0\n",
    "# 0.4*F1-0.6*C1+0.4*R1+0.4*F2-0.6*C2+0.4*R2+0.4*F3-0.6*C3+0.4*R3+0.4*F4-0.6*C4+0.4*R4 <= 0\n",
    "# -0.6*F1+0.4*C1-0.6*R1-0.6*F2+0.4*C2-0.6*R2-0.6*F3+0.4*C3-0.6*R3-0.6*F4+0.4*C4-0.6*R4 <= 0\n",
    "lhs_ineq = [[1,1,1,0,0,0,0,0,0,0,0,0], \n",
    "            [0,0,0,1,1,1,0,0,0,0,0,0],\n",
    "            [0,0,0,0,0,0,1,1,1,0,0,0],\n",
    "            [0,0,0,0,0,0,0,0,0,1,1,1],\n",
    "            [1,0,0,1,0,0,1,0,0,1,0,0],\n",
    "            [0,1,0,0,1,0,0,1,0,0,1,0],\n",
    "            [0,0,1,0,0,1,0,0,1,0,0,1],\n",
    "            [40,0,0,25,0,0,60,0,0,50,0,0],\n",
    "            [0,40,0,0,25,0,0,60,0,0,50,0],\n",
    "            [0,0,40,0,0,25,0,0,60,0,0,50],\n",
    "            [-1,0,0.9,-1,0,0.9,-1,0,0.9,-1,0,0.9],\n",
    "            [1,0,-1.1,1,0,-1.1,1,0,-1.1,1,0,-1.1],\n",
    "            [0.4,-0.6,0.4,0.4,-0.6,0.4,0.4,-0.6,0.4,0.4,-0.6,0.4],\n",
    "            [-0.6,0.4,-0.6,-0.6,0.4,-0.6,-0.6,0.4,-0.6,-0.6,0.4,-0.6]\n",
    "            ]  \n",
    "rhs_ineq = [4000, \n",
    "          3000, \n",
    "          2000, \n",
    "          1000, \n",
    "          3000, \n",
    "          5000, \n",
    "          2000, \n",
    "          100000, \n",
    "          150000, \n",
    "          120000, \n",
    "          0, \n",
    "          0, \n",
    "          0, \n",
    "          0]\n",
    "\n",
    "#set the bundary for variables\n",
    "bnd = [(0, float(\"inf\")),\n",
    "       (0, float(\"inf\")),\n",
    "       (0, float(\"inf\")),\n",
    "       (0, float(\"inf\")),\n",
    "       (0, float(\"inf\")),\n",
    "       (0, float(\"inf\")),\n",
    "       (0, float(\"inf\")),\n",
    "       (0, float(\"inf\")),\n",
    "       (0, float(\"inf\")),\n",
    "       (0, float(\"inf\")),\n",
    "       (0, float(\"inf\")),\n",
    "       (0, float(\"inf\"))]\n",
    "opt = linprog(c=obj, A_ub=lhs_ineq, b_ub=rhs_ineq, bounds=bnd, method=\"revised simplex\")\n",
    "opt"
   ]
  }
 ]
}