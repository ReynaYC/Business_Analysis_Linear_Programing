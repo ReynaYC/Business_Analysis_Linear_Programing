{
 "metadata": {
  "language_info": {
   "codemirror_mode": {
    "name": "ipython",
    "version": 3
   },
   "file_extension": ".py",
   "mimetype": "text/x-python",
   "name": "python",
   "nbconvert_exporter": "python",
   "pygments_lexer": "ipython3",
   "version": "3.8.3-final"
  },
  "orig_nbformat": 2,
  "kernelspec": {
   "name": "python3",
   "display_name": "Python 3",
   "language": "python"
  }
 },
 "nbformat": 4,
 "nbformat_minor": 2,
 "cells": [
  {
   "source": [
    "Q7\n",
    "\n",
    "Williams apparel company produces two competing suits for women, the Executive and the Creativista. The markets for these suits are two different groups of customers. The valuation of these two suits by the two groups are given below: \n",
    "\n",
    "Customers' values:\t\n",
    "\t                    \n",
    "Value of the Executive:\t  $1000(Group 1),\t    $1200(Group 2);\n",
    "Value of the Creativista:  $800(Group 1),\t    $1500 (Group 2)\n",
    "  \n",
    "Due to the high price of the suits, each customer usually buys only one suit. Customers’ choice is dependent on their net utility which is calculated as the value of a particular suit to a customer minus its price. Williams company would like to set the prices of the Executive and the Creativista suits such that all group 1 customers purchase the Executive and all group 2 customers purchase the Creativista. How much should the Williams company charge for each suit to maximize revenue? (The size of groups 1 and 2 are 1000 and 1500 customers, respectively. Suppose that if the net utilities of group 1 for the Executive and the Creativista are the same, group 1 will purchase the Executive. A similar condition applies to group 2.) \n",
    "\n"
   ],
   "cell_type": "markdown",
   "metadata": {}
  },
  {
   "cell_type": "code",
   "execution_count": 1,
   "metadata": {},
   "outputs": [],
   "source": [
    "#Q7\n",
    "from pulp import LpMaximize, LpProblem, LpStatus, lpSum, LpVariable"
   ]
  },
  {
   "cell_type": "code",
   "execution_count": 2,
   "metadata": {},
   "outputs": [
    {
     "output_type": "execute_result",
     "data": {
      "text/plain": [
       "Williams_Max_Revenue:\n",
       "MAXIMIZE\n",
       "1500*PC + 1000*PE + 0\n",
       "SUBJECT TO\n",
       "Executive_NU_constraint: PC - PE >= -200\n",
       "\n",
       "Creativista_NU_constraint: - PC + PE >= -300\n",
       "\n",
       "Executivew_value_constraint: - PE >= -1000\n",
       "\n",
       "Creativista_value_constraint: - PC >= -1500\n",
       "\n",
       "VARIABLES\n",
       "PC Continuous\n",
       "PE Continuous"
      ]
     },
     "metadata": {},
     "execution_count": 2
    }
   ],
   "source": [
    "\n",
    "# Create the model\n",
    "model = LpProblem(name=\"Williams_Max_Revenue\", sense=LpMaximize)\n",
    "\n",
    "# Initialize the decision variables\n",
    "x = LpVariable(name=\"PE\", lowBound=0) # PE = Per unit price of the Executive, lowBound = 0 means now 0 <= PE <= infinity.\n",
    "y = LpVariable(name=\"PC\", lowBound=0) # PC = Per unit price of the Creativista, lowBound = 0 means now 0 <= PC <= infinity.\n",
    "\n",
    "# Add the objective function to the model  MAX 1000 PE + 1500 PC\n",
    "obj_func = 1000 * x + 1500 * y\n",
    "model += obj_func\n",
    "\n",
    "# Add the constraints to the model\n",
    "model += (1000 - x >= 800 - y, \"Executive_NU_constraint\")  \n",
    "#1000 - PE > 800 – PC (This constraint ensures that the net utility of the executive is higher for group 1) \n",
    "\n",
    "model += (1500 -y >= 1200 - x, \"Creativista_NU_constraint\")\n",
    "#1500 – PC > 1200 – PE (This constraint ensures that the net utility of the creativista is higher for group 2) \n",
    "\n",
    "\n",
    "model += (1000 - x >= 0, \"Executivew_value_constraint\")\n",
    "#1000 – PE >= 0\n",
    "model += (1500 - y >= 0, \"Creativista_value_constraint\")\n",
    "#1500 – PC >= 0 \n",
    "\n",
    "\n",
    "model"
   ]
  },
  {
   "cell_type": "code",
   "execution_count": 3,
   "metadata": {},
   "outputs": [],
   "source": [
    "# Solve the problem\n",
    "status = model.solve()\n",
    "#.solve() calls the underlying solver, modifies the model object, and returns the integer status of the solution, which will be 1 if the optimum is found. \n"
   ]
  },
  {
   "cell_type": "code",
   "execution_count": 4,
   "metadata": {},
   "outputs": [
    {
     "output_type": "stream",
     "name": "stdout",
     "text": [
      "status: 1, Optimal\n"
     ]
    }
   ],
   "source": [
    "print(f\"status: {model.status}, {LpStatus[model.status]}\") # This model.status returns the integer status of the solution, which will be 1 if the optimum is found. "
   ]
  },
  {
   "cell_type": "code",
   "execution_count": 5,
   "metadata": {},
   "outputs": [
    {
     "output_type": "stream",
     "name": "stdout",
     "text": [
      "The optimal revenue is $ 2950000.0\n"
     ]
    }
   ],
   "source": [
    "print(f\"The optimal revenue is $ {model.objective.value()}\") # model.objective holds the value of the objective function, which is 2,950,000"
   ]
  },
  {
   "cell_type": "code",
   "execution_count": 6,
   "metadata": {},
   "outputs": [
    {
     "output_type": "stream",
     "name": "stdout",
     "text": [
      "PC: 1300.0\nPE: 1000.0\n"
     ]
    }
   ],
   "source": [
    "for var in model.variables():   \n",
    "    print(f\"{var.name}: {var.value()}\")\n",
    "# The objects PE and PC have the optimal values of the decision variables. model.variables() returns a list with the decision variables:"
   ]
  },
  {
   "cell_type": "code",
   "execution_count": 7,
   "metadata": {},
   "outputs": [
    {
     "output_type": "stream",
     "name": "stdout",
     "text": [
      "The firm should set the price of the Executive as $ 1000.0\nThe firm should set the price of the Creativista as $ 1300.0\n"
     ]
    }
   ],
   "source": [
    "print(\"The firm should set the price of the Executive as $\", model.variables()[1].value())\n",
    "print(\"The firm should set the price of the Creativista as $\", model.variables()[0].value())"
   ]
  },
  {
   "cell_type": "code",
   "execution_count": 8,
   "metadata": {},
   "outputs": [
    {
     "output_type": "stream",
     "name": "stdout",
     "text": [
      "Executive_NU_constraint: 500.0\nCreativista_NU_constraint: 0.0\nExecutivew_value_constraint: 0.0\nCreativista_value_constraint: 200.0\n"
     ]
    }
   ],
   "source": [
    "for name, constraint in model.constraints.items():    # model.constraints contains the values of the slack variables\n",
    "    print(f\"{name}: {constraint.value()}\")"
   ]
  }
 ]
}